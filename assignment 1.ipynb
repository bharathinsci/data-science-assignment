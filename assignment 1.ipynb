{
 "cells": [
  {
   "cell_type": "code",
   "execution_count": 3,
   "metadata": {},
   "outputs": [
    {
     "name": "stdout",
     "output_type": "stream",
     "text": [
      "2002,2009,2016,2023,2037,2044,2051,2058,2072,2079,2086,2093,2107,2114,2121,2128,2142,2149,2156,2163,2177,2184,2191,2198,2212,2219,2226,2233,2247,2254,2261,2268,2282,2289,2296,2303,2317,2324,2331,2338,2352,2359,2366,2373,2387,2394,2401,2408,2422,2429,2436,2443,2457,2464,2471,2478,2492,2499,2506,2513,2527,2534,2541,2548,2562,2569,2576,2583,2597,2604,2611,2618,2632,2639,2646,2653,2667,2674,2681,2688,2702,2709,2716,2723,2737,2744,2751,2758,2772,2779,2786,2793,2807,2814,2821,2828,2842,2849,2856,2863,2877,2884,2891,2898,2912,2919,2926,2933,2947,2954,2961,2968,2982,2989,2996,3003,3017,3024,3031,3038,3052,3059,3066,3073,3087,3094,3101,3108,3122,3129,3136,3143,3157,3164,3171,3178,3192,3199\n"
     ]
    }
   ],
   "source": [
    "l1=[]\n",
    "for n in range (2000, 3200):\n",
    "    if (n%7 == 0) and (n%5 != 0):\n",
    "         l1.append(str(n))\n",
    "print(','.join(l1))"
   ]
  },
  {
   "cell_type": "code",
   "execution_count": 13,
   "metadata": {},
   "outputs": [
    {
     "name": "stdout",
     "output_type": "stream",
     "text": [
      "please enter first namebharath\n",
      "please enter second namegowda\n",
      "htarahb adwog\n"
     ]
    }
   ],
   "source": [
    "fname = input(\"please enter first name\")\n",
    "lname = input(\"please enter second name\")\n",
    "fname = fname[::-1]\n",
    "lname = lname[::-1]\n",
    "fullname = fname + ' ' + lname\n",
    "print(fullname)\n",
    "\n"
   ]
  },
  {
   "cell_type": "code",
   "execution_count": 16,
   "metadata": {},
   "outputs": [
    {
     "name": "stdout",
     "output_type": "stream",
     "text": [
      "904.3199999999999\n"
     ]
    }
   ],
   "source": [
    "d = 12\n",
    "r = d/2\n",
    "pi = 3.14\n",
    "vol = 4/3*(pi * r * r * r)\n",
    "print(vol)\n",
    "\n"
   ]
  },
  {
   "cell_type": "raw",
   "metadata": {},
   "source": [
    "s1 = input(\"enter the number seperated with commas\")\n"
   ]
  },
  {
   "cell_type": "code",
   "execution_count": 17,
   "metadata": {},
   "outputs": [
    {
     "name": "stdout",
     "output_type": "stream",
     "text": [
      "enter the numbers seperated with commas10,33,55,039,9595,5,34,555\n"
     ]
    },
    {
     "data": {
      "text/plain": [
       "['10', '33', '55', '039', '9595', '5', '34', '555']"
      ]
     },
     "execution_count": 17,
     "metadata": {},
     "output_type": "execute_result"
    }
   ],
   "source": [
    "s1 = input(\"enter the numbers seperated with commas\")\n",
    "l1 = s1.split(',')\n",
    "l1\n",
    "\n"
   ]
  },
  {
   "cell_type": "code",
   "execution_count": 19,
   "metadata": {},
   "outputs": [
    {
     "name": "stdout",
     "output_type": "stream",
     "text": [
      "enter a number7\n",
      "*\n",
      "\n",
      "**\n",
      "\n",
      "***\n",
      "\n",
      "****\n",
      "\n",
      "*****\n",
      "\n",
      "******\n",
      "\n",
      "*******\n",
      "\n",
      "******\n",
      "\n",
      "*****\n",
      "\n",
      "****\n",
      "\n",
      "***\n",
      "\n",
      "**\n",
      "\n",
      "*\n",
      "\n"
     ]
    }
   ],
   "source": [
    "n = input(\"enter a number\")\n",
    "m = int (n)\n",
    "for i in range (0,m):\n",
    "    for j in range(0,i+1):\n",
    "        print('*',end='')\n",
    "    print(\"\\n\")\n",
    "for i in range (0,m-1):\n",
    "    m=m-1\n",
    "    for j in range(0,m):\n",
    "        print('*',end='')\n",
    "    print(\"\\n\")  \n",
    "    \n",
    "    \n",
    "    \n",
    "    \n",
    "    "
   ]
  },
  {
   "cell_type": "code",
   "execution_count": 21,
   "metadata": {},
   "outputs": [
    {
     "name": "stdout",
     "output_type": "stream",
     "text": [
      "enter a word:acadgild\n"
     ]
    },
    {
     "data": {
      "text/plain": [
       "'dligdaca'"
      ]
     },
     "execution_count": 21,
     "metadata": {},
     "output_type": "execute_result"
    }
   ],
   "source": [
    "a = input(\"enter a word:\")\n",
    "b = a[::-1]\n",
    "b"
   ]
  },
  {
   "cell_type": "code",
   "execution_count": 24,
   "metadata": {},
   "outputs": [
    {
     "name": "stdout",
     "output_type": "stream",
     "text": [
      "WE, THE PEOPLE OF INDIA, \n",
      " \t having solemnly resolved to constitute india into a SOVEREIGN,!\n",
      " \t \t SOCIALIST,SECULAR, DEMOCRATIC REPUBLIC \n",
      " \t \t  and to secure to all its citizens\n"
     ]
    }
   ],
   "source": [
    "print(\"WE, THE PEOPLE OF INDIA, \\n \\t having solemnly resolved to constitute india into a SOVEREIGN,!\\n \\t \\t SOCIALIST,SECULAR, DEMOCRATIC REPUBLIC \\n \\t \\t  and to secure to all its citizens\")"
   ]
  },
  {
   "cell_type": "code",
   "execution_count": null,
   "metadata": {},
   "outputs": [],
   "source": []
  }
 ],
 "metadata": {
  "kernelspec": {
   "display_name": "Python 3",
   "language": "python",
   "name": "python3"
  },
  "language_info": {
   "codemirror_mode": {
    "name": "ipython",
    "version": 3
   },
   "file_extension": ".py",
   "mimetype": "text/x-python",
   "name": "python",
   "nbconvert_exporter": "python",
   "pygments_lexer": "ipython3",
   "version": "3.6.5"
  }
 },
 "nbformat": 4,
 "nbformat_minor": 2
}
